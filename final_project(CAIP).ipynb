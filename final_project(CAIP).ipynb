{
  "nbformat": 4,
  "nbformat_minor": 0,
  "metadata": {
    "colab": {
      "provenance": [],
      "gpuType": "T4",
      "mount_file_id": "1uUI_Qfh-jQ8_sAvEuYf2OX7f7Y7qtU0r",
      "authorship_tag": "ABX9TyMWmwuEbpG2ER+e075QyPdr",
      "include_colab_link": true
    },
    "kernelspec": {
      "name": "python3",
      "display_name": "Python 3"
    },
    "language_info": {
      "name": "python"
    },
    "accelerator": "GPU",
   
  },
  "cells": [
    {
      "cell_type": "markdown",
      "metadata": {
        "id": "view-in-github",
        "colab_type": "text"
      },
      "source": [
        "<a href=\"https://colab.research.google.com/github/anbermushtaq/Speech_threat_detection/blob/main/final_project(CAIP).ipynb\" target=\"_parent\"><img src=\"https://colab.research.google.com/assets/colab-badge.svg\" alt=\"Open In Colab\"/></a>"
      ]
    },
    {
      "cell_type": "code",
      "execution_count": null,
      "metadata": {
        "colab": {
          "base_uri": "https://localhost:8080/"
        },
        "id": "xEQEgnyKY00_",
        "outputId": "055d8de7-ca68-4580-da06-f57e7dbaabbf"
      },
      "outputs": [
        {
          "output_type": "stream",
          "name": "stdout",
          "text": [
            "\u001b[2K   \u001b[90m━━━━━━━━━━━━━━━━━━━━━━━━━━━━━━━━━━━━━━━━\u001b[0m \u001b[32m10.1/10.1 MB\u001b[0m \u001b[31m69.9 MB/s\u001b[0m eta \u001b[36m0:00:00\u001b[0m\n",
            "\u001b[2K   \u001b[90m━━━━━━━━━━━━━━━━━━━━━━━━━━━━━━━━━━━━━━━━\u001b[0m \u001b[32m6.9/6.9 MB\u001b[0m \u001b[31m90.5 MB/s\u001b[0m eta \u001b[36m0:00:00\u001b[0m\n",
            "\u001b[?25h"
          ]
        }
      ],
      "source": [
        "!pip install -q streamlit transformers datasets torch soundfile pydub pandas altair openai     # optional: for OpenAI Whisper API"
      ]
    },
    {
      "cell_type": "code",
      "source": [
        "!pip install -q  evaluate scikit-learn seqeval sentencepiece\n"
      ],
      "metadata": {
        "colab": {
          "base_uri": "https://localhost:8080/"
        },
        "id": "C2lmIP9rZO4d",
        "outputId": "d6f7758a-a2ef-429a-8fbc-bee99de666ee"
      },
      "execution_count": null,
      "outputs": [
        {
          "output_type": "stream",
          "name": "stdout",
          "text": [
            "\u001b[?25l     \u001b[90m━━━━━━━━━━━━━━━━━━━━━━━━━━━━━━━━━━━━━━━━\u001b[0m \u001b[32m0.0/43.6 kB\u001b[0m \u001b[31m?\u001b[0m eta \u001b[36m-:--:--\u001b[0m\r\u001b[2K     \u001b[90m━━━━━━━━━━━━━━━━━━━━━━━━━━━━━━━━━━━━━━━━\u001b[0m \u001b[32m43.6/43.6 kB\u001b[0m \u001b[31m2.3 MB/s\u001b[0m eta \u001b[36m0:00:00\u001b[0m\n",
            "\u001b[?25h  Preparing metadata (setup.py) ... \u001b[?25l\u001b[?25hdone\n",
            "\u001b[2K   \u001b[90m━━━━━━━━━━━━━━━━━━━━━━━━━━━━━━━━━━━━━━━━\u001b[0m \u001b[32m84.1/84.1 kB\u001b[0m \u001b[31m6.5 MB/s\u001b[0m eta \u001b[36m0:00:00\u001b[0m\n",
            "\u001b[?25h  Building wheel for seqeval (setup.py) ... \u001b[?25l\u001b[?25hdone\n"
          ]
        }
      ]
    },
    {
      "cell_type": "code",
      "source": [
        "!pip install -q -U accelerate\n"
      ],
      "metadata": {
        "id": "InbNacqrZSfz"
      },
      "execution_count": null,
      "outputs": []
    },
    {
      "cell_type": "code",
      "source": [
        "# === Cell 1: Imports & utils ===\n",
        "import os\n",
        "import random\n",
        "import numpy as np\n",
        "import pandas as pd\n",
        "from sklearn.model_selection import train_test_split\n",
        "from sklearn.preprocessing import LabelEncoder\n",
        "from sklearn.metrics import classification_report, confusion_matrix\n",
        "import matplotlib.pyplot as plt\n",
        "\n",
        "import torch\n",
        "from transformers import (\n",
        "    AutoTokenizer,\n",
        "    AutoModelForSequenceClassification,\n",
        "    DataCollatorWithPadding,\n",
        "    TrainingArguments,\n",
        "    Trainer,\n",
        "    EarlyStoppingCallback,\n",
        ")\n",
        "from datasets import Dataset, DatasetDict\n",
        "import evaluate\n",
        "\n",
        "# Set seed for reproducibility\n",
        "SEED = 42\n",
        "random.seed(SEED)\n",
        "np.random.seed(SEED)\n",
        "torch.manual_seed(SEED)\n",
        "if torch.cuda.is_available():\n",
        "    torch.cuda.manual_seed_all(SEED)\n",
        "\n",
        "# === Cell 2: Load dataset ===\n",
        "CSV_PATH = '/content/newdataset.csv'  # <-- change if needed\n",
        "\n",
        "if not os.path.exists(CSV_PATH):\n",
        "    raise FileNotFoundError(f\"CSV not found at {CSV_PATH}\")\n",
        "\n",
        "print(\"Loading CSV...\")\n",
        "df = pd.read_csv(CSV_PATH)\n",
        "print(\"Columns found:\", df.columns.tolist())\n",
        "\n",
        "required_cols = {'sentence', 'label', 'language'}\n",
        "if not required_cols.issubset(df.columns):\n",
        "    raise ValueError(f\"CSV must contain columns: {required_cols}. Found: {set(df.columns)}\")\n",
        "\n",
        "# === Cell 3: Preprocess ===\n",
        "# Use the 'sentence' column directly as text\n",
        "df['text'] = df['sentence'].astype(str).str.strip()\n",
        "\n",
        "# Encode labels\n",
        "df['label'] = df['label'].astype(str).str.strip()\n",
        "le = LabelEncoder()\n",
        "df['label_id'] = le.fit_transform(df['label'])\n",
        "label_list = list(le.classes_)\n",
        "num_labels = len(label_list)\n",
        "print(\"Detected labels:\", label_list)\n",
        "print(\"Number of samples:\", len(df))\n",
        "print(df['label'].value_counts())\n",
        "\n",
        "# === Cell 4: Train/val/test split ===\n",
        "train_df, test_df = train_test_split(df, test_size=0.30, stratify=df['label_id'], random_state=SEED)\n",
        "train_df, val_df = train_test_split(train_df, test_size=0.10, stratify=train_df['label_id'], random_state=SEED)\n",
        "print(\"Split sizes:\", len(train_df), len(val_df), len(test_df))\n",
        "\n",
        "# Convert to HuggingFace Datasets\n",
        "hf_train = Dataset.from_pandas(train_df[['text', 'label_id']].rename(columns={'label_id': 'label'})).shuffle(seed=SEED)\n",
        "hf_val = Dataset.from_pandas(val_df[['text', 'label_id']].rename(columns={'label_id': 'label'})).shuffle(seed=SEED)\n",
        "hf_test = Dataset.from_pandas(test_df[['text', 'label_id']].rename(columns={'label_id': 'label'})).shuffle(seed=SEED)\n",
        "\n",
        "datasets = DatasetDict({\n",
        "    'train': hf_train,\n",
        "    'validation': hf_val,\n",
        "    'test': hf_test\n",
        "})\n",
        "\n",
        "# === Cell 5: Tokenizer ===\n",
        "model_name = \"xlm-roberta-base\"\n",
        "print(\"Using model:\", model_name)\n",
        "tokenizer = AutoTokenizer.from_pretrained(model_name)\n",
        "max_length = 256\n",
        "\n",
        "def preprocess_function(examples):\n",
        "    return tokenizer(examples[\"text\"], truncation=True, padding=False, max_length=max_length)\n",
        "\n",
        "encoded_datasets = datasets.map(preprocess_function, batched=True, remove_columns=[\"text\"])\n",
        "data_collator = DataCollatorWithPadding(tokenizer=tokenizer)\n",
        "\n",
        "# === Cell 6: Metrics ===\n",
        "accuracy = evaluate.load(\"accuracy\")\n",
        "f1 = evaluate.load(\"f1\")\n",
        "precision = evaluate.load(\"precision\")\n",
        "recall = evaluate.load(\"recall\")\n",
        "\n",
        "def compute_metrics(pred):\n",
        "    labels = pred.label_ids\n",
        "    preds = np.argmax(pred.predictions, axis=1)\n",
        "    acc = accuracy.compute(predictions=preds, references=labels)[\"accuracy\"]\n",
        "    f1_macro = f1.compute(predictions=preds, references=labels, average=\"macro\")[\"f1\"]\n",
        "    precision_macro = precision.compute(predictions=preds, references=labels, average=\"macro\")[\"precision\"]\n",
        "    recall_macro = recall.compute(predictions=preds, references=labels, average=\"macro\")[\"recall\"]\n",
        "    return {\n",
        "        \"accuracy\": acc,\n",
        "        \"f1_macro\": f1_macro,\n",
        "        \"precision_macro\": precision_macro,\n",
        "        \"recall_macro\": recall_macro\n",
        "    }\n",
        "\n",
        "# === Cell 7: Training setup ===\n",
        "output_dir = \"./xlm_roberta_multilingual_classifier\"\n",
        "training_args = TrainingArguments(\n",
        "    output_dir=output_dir,\n",
        "    per_device_train_batch_size=16,\n",
        "    per_device_eval_batch_size=32,\n",
        "    eval_strategy=\"epoch\",\n",
        "    save_strategy=\"epoch\",\n",
        "    learning_rate=2e-5,\n",
        "    weight_decay=0.01,\n",
        "    num_train_epochs=4,\n",
        "    load_best_model_at_end=True,\n",
        "    metric_for_best_model=\"f1_macro\",\n",
        "    greater_is_better=True,\n",
        "    logging_steps=50,\n",
        "    fp16=torch.cuda.is_available(),\n",
        "    save_total_limit=3,\n",
        "    seed=SEED,\n",
        ")\n",
        "print(training_args)\n",
        "\n",
        "# === Cell 8: Model init ===\n",
        "model = AutoModelForSequenceClassification.from_pretrained(model_name, num_labels=num_labels)\n",
        "\n",
        "# === Cell 9: Trainer setup ===\n",
        "trainer = Trainer(\n",
        "    model=model,\n",
        "    args=training_args,\n",
        "    train_dataset=encoded_datasets[\"train\"],\n",
        "    eval_dataset=encoded_datasets[\"validation\"],\n",
        "    tokenizer=tokenizer,\n",
        "    data_collator=data_collator,\n",
        "    compute_metrics=compute_metrics,\n",
        "    callbacks=[EarlyStoppingCallback(early_stopping_patience=2)],\n",
        ")\n",
        "\n",
        "# === Cell 10: Train ===\n",
        "trainer.train()\n",
        "\n",
        "# === Cell 11: Evaluate ===\n",
        "print(\"Evaluating on test set...\")\n",
        "eval_results = trainer.predict(encoded_datasets[\"test\"])\n",
        "metrics = compute_metrics(eval_results)\n",
        "print(metrics)\n",
        "\n",
        "preds = np.argmax(eval_results.predictions, axis=1)\n",
        "labels = eval_results.label_ids\n",
        "report = classification_report(labels, preds, target_names=label_list, digits=4)\n",
        "print(\"Classification report:\\n\", report)\n",
        "\n",
        "cm = confusion_matrix(labels, preds)\n",
        "print(\"Confusion matrix:\\n\", cm)\n",
        "\n",
        "plt.figure(figsize=(8, 6))\n",
        "plt.imshow(cm, interpolation=\"nearest\")\n",
        "plt.title(\"Confusion matrix\")\n",
        "plt.colorbar()\n",
        "plt.xticks(range(len(label_list)), label_list, rotation=45, ha=\"right\")\n",
        "plt.yticks(range(len(label_list)), label_list)\n",
        "plt.xlabel(\"Predicted\")\n",
        "plt.ylabel(\"True\")\n",
        "for i in range(cm.shape[0]):\n",
        "    for j in range(cm.shape[1]):\n",
        "        plt.text(j, i, cm[i, j], ha=\"center\", va=\"center\")\n",
        "plt.tight_layout()\n",
        "plt.show()\n",
        "\n",
        "# === Cell 12: Save model ===\n",
        "model_save_path = os.path.join(output_dir, \"final\")\n",
        "os.makedirs(model_save_path, exist_ok=True)\n",
        "trainer.save_model(model_save_path)\n",
        "tokenizer.save_pretrained(model_save_path)\n",
        "print(\"Model and tokenizer saved to\", model_save_path)\n",
        "\n",
        "# === Cell 13: Inference helper ===\n",
        "def predict_texts(texts, batch_size=32):\n",
        "    enc = tokenizer(texts, truncation=True, padding=True, max_length=max_length, return_tensors=\"pt\")\n",
        "    if torch.cuda.is_available():\n",
        "        enc = {k: v.cuda() for k, v in enc.items()}\n",
        "        model.cuda()\n",
        "    with torch.no_grad():\n",
        "        outputs = model(**enc)\n",
        "        logits = outputs.logits\n",
        "        preds = torch.argmax(logits, dim=-1).cpu().numpy()\n",
        "    return [label_list[p] for p in preds]\n",
        "\n",
        "# Example:\n",
        "# print(predict_texts([\"I will hurt you\", \"میں تمہیں نقصان پہنچاؤں گا\"]))\n"
      ],
      "metadata": {
        "colab": {
          "base_uri": "https://localhost:8080/",
          "height": 1000,
          "referenced_widgets": [
            "47d4ae8642424181afbe78d2ce309e11",
            "109c00fd514444f8a0b217f638f15261",
            "f465e249b6cc48b1bed6c9ad7a6d2907",
            "0b8d7f5d1ae24d179b129d0f10644052",
            "5c3e4aa891a74c139abebe5352ccf5f0",
            "f4ea16c7464a49dcb266ff59d2a8cd4e",
            "daf518f79c424f0daea28f74ee8f8ded",
            "359dc5492e5949fcaab9964999064eaa",
            "0db55aa57ca44c0785f8b8cf75ed1ff1",
            "84d5819b7fdd40a0a36d0343d9719b3f",
            "f353a1b04ee54857baabc8dbbb872914",
            "985e451144464bb89cc33ef37a7d88a5",
            "30bd7cc995524057a8743d327f26d255",
            "7b33b7f7d85c4db0aeda9d45c5ebabaf",
            "d1dbfc322aa1465f82cd67f29afa7a90",
            "c8469fcb2ca741c0a10bb92125385b14",
            "70eb15ebe6f645fa8e7cb0c35be19700",
            "edac197ecb084da2aa623b1a609cbe4b",
            "e0c1f8b8b8074176a104a06be17cf0f5",
            "0d907d27e2fd467bb26d503d150a48e4",
            "f187bd8d87fd4627a85d84f181013c15",
            "31938ca8ed2247758c13ff4112d26d18",
            "9988db4fe8cf4e5b81bbda2c11b1da8d",
            "eb38093ba37e4be1910280e81eaa537a",
            "dbdcb3d9de67448c803054b3bfd2de53",
            "1a6b48b63ca34306b869a63674b660aa",
            "eaff897a4a8b4bd081fb91ab04e3c322",
            "c838f788fddd4ca799b33b256de9bf9c",
            "d508b93d456f495d8b5c6afcdf08beff",
            "3775024ab6144c4e979edca75bef89e9",
            "b270283307994e2a91d9902cc5616eba",
            "3e00cac1eee942a8af58cc7a3d122a3f",
            "90b8bf2cc8704fa495cff627bf859360",
            "25d7b88f6a5e4fde87778b8602485151",
            "18135410c7774b68bcc94a5750b1f8bb",
            "af04d841f71f410da6d2eb1b314adacf",
            "6effd32e2866478dbc15772cfe28a847",
            "82b267947b7a48109cb823b905e4684e",
            "8af51f8b5a9e494bbba5f40f5234254c",
            "57213ea9b3ea4342a11d7621444dd3c5",
            "3643b9f2de9e4b13b00ebd836199ba6b",
            "9f84a20b5f3e4cb0a507ac409281d6ca",
            "c1207e31c0c34e96a0a2940b67465962",
            "09eef06fe2d54f36a274ebbb28fbf453",
            "465bf4ece66c4f5bb577114197d4cd8d",
            "8fec8e80dcc44be09655ff94fb6bf43a",
            "cdc3f74937a84b87aa24c1fee861518d",
            "10aba66bf80c42d79f9595ba3c24a7bc",
            "618f53453fd740358048883867452c5e",
            "8b4101755b434252bfb3a98d2bd05896",
            "7d21b4a171a44923bb5849ce9f17281a",
            "5dfff767533e46abbc136cc8520b77c4",
            "e0cecdb9732a448292b49dc73215da98",
            "7fa92c31fedd4db98b5abb1eab1f0d81",
            "da2ba706662948fa95ae20a9777db999",
            "bbd0683dafeb4bcb80bb64bc626846ca",
            "800a5fc41eb841e0b3805e8d2db28ee4",
            "b6b5912f372a4423b2c0ddd6bceee4e4",
            "92b9beca0223462aafb5f14ab90950d2",
            "512c50ac015749cdbc52a4b92727de47",
            "e4c0d75058c1467985c3ced786c276d3",
            "783fb264346e45fe8450446126c9147c",
            "2b73af2a39824902b8aede84127c7160",
            "8d13779b722844f498fe7dc866f832df",
            "718fe62854344f48b8f8b385a8ac802f",
            "8f3ece5208414ce9a9426a4d5f2d166a",
            "7d97e16c0ed94456b1df47cd8e750bce",
            "6138131edd72415eb1faa948f5d6c561",
            "2509d2de55dc49e29da8b73d0d5c4b71",
            "73707d3534db4003af7b5eb2d216a74d",
            "36c8cd0e73e84d538a1c4e3f132c100a",
            "9858989045424cdabc9762cb42cc732d",
            "1cc2c0140d184e9fa35753a054167930",
            "50735af5668a43d8b70186dbf5278d45",
            "01d7da93831b479ba5db83640bf59b71",
            "413f1f01b2c844f0945155c98527f6e2",
            "7a5adc45928b476cae2dbddd8e837214",
            "14c22aa1d64645b28483ecbe63a26dc9",
            "39fe3e7434ad405ea690d933f5cafd5e",
            "38cd026e3f9a47e6803d10f29df76a4e",
            "8d9dd0282ebc4eebb9848615050dacb7",
            "268075d0581d499db252d2ddb8aa00bb",
            "353046dad2094545a0bb9fe0967a6964",
            "e3409f133eef4f4883dfcbd0699a5b60",
            "882923ff84cb41d28154f3e03fbb28c7",
            "dfbf8c2d0d814ae68b1c9aacdf9cacdf",
            "62b3e691b65049c497ba984fa7e45f1b",
            "2f0835897a2e4521878ec4a4ca424c17",
            "1a93db930c8c418c80d2559a56c13fa4",
            "0cf191ece49e4cd5a71ad4cc19e7b952",
            "48148642cbd44f5ab548622dedd7891b",
            "cd45ae44ef704cabbf07e4f7ea543c32",
            "f634e74281f84c1aa86c3c24bdd6c1d0",
            "19f7a8c4af72408f83cf5912061c7532",
            "a23e4401368c48d984052a8b5a2ef373",
            "0b2a7e71670a456c8b54bfd3ddb5b148",
            "fb16265b85ff45c688169b3cdea869cc",
            "a59e4f6048fa4e74bd61e0dc6d86c91f",
            "5f9e24206b2340989fedfc4bfa0643ad",
            "626c7ecbcf8a47f5a4981c24c6da0f6a",
            "b9c28f3c52a44b6990587e6cc2d31f05",
            "f5107e529e0943b0b11c68707026bcd7",
            "e2849cd66acd48bdb440881ba5d29578",
            "ee8580dac3d346aa9a88fb8caa188fe1",
            "9be21da0118b4e1ba36f8b21e3fc3113",
            "8a8058540cb44c21a866df59e6c34794",
            "8c794ce42cec48b0a85f441553c57b60",
            "8e93c58ae9684bccbe6df394918c5ba2",
            "e22ac8fad2b342bb8e7f82a900944f05",
            "59413c6b55ae4e2bbc420a1a817a49bd",
            "dfa241c9561a4d00b36acb504924a306",
            "5bb56f928398434eaf49455a979c3044",
            "ad9db69694624ef4aea9ee966bf5d430",
            "22ac4e81c7c14306b6587357278f0e7d",
            "d73a129901174e1892de2ea81347ef5c",
            "b2988cfc7fa24d519ab7f22ed209f2a6",
            "626659046bcb456db66a4da1fdf2a5bb",
            "88b072143fa845c4aaf7fcca391c3ac7",
            "67583ec0717e4c48a6f985cf445094c7",
            "32a8c44c23864a4bb53d7d4732aa435d",
            "10aeb89057ae4b0eba5a4d06cd5fee75",
            "0f0772fbd9e14085b69f53354e4cf17f",
            "ddcf33ccc9324fbd91482057afa1d0e7",
            "cbc88f1dcf6240e0ab15be145786fefb",
            "65656437ab4c42148ea369359189edd1",
            "3e83291c1424483ab70fb3866b49d694",
            "c2b8ba7f90e14e2393955e2e97b6b0c8",
            "d0285b6091794fb58874036132b1860a",
            "8c793eafbaad463b9c64dea162a5a76c",
            "08a98a3b720e433db7fe114950f3220a",
            "6a71c198344a40edb10cd3f4ec7c705b",
            "0de08de5fc63472dab13652ee4549b6d"
          ]
        },
        "id": "Kj0TNV3IZUd3",
        "outputId": "2a3b4eea-1cbc-43cf-9c99-bd9d763a1158"
      },
      "execution_count": null,
      "outputs": [
        {
          "output_type": "stream",
          "name": "stdout",
          "text": [
            "Loading CSV...\n",
            "Columns found: ['sentence', 'label', 'language']\n",
            "Detected labels: ['Hate Speech', 'Self-harm', 'cyber threat', 'neutral', 'physical threat', 'political extremist']\n",
            "Number of samples: 3917\n",
            "label\n",
            "cyber threat           885\n",
            "neutral                857\n",
            "Hate Speech            730\n",
            "political extremist    543\n",
            "Self-harm              497\n",
            "physical threat        405\n",
            "Name: count, dtype: int64\n",
            "Split sizes: 2466 275 1176\n",
            "Using model: xlm-roberta-base\n"
          ]
        },
        {
          "output_type": "stream",
          "name": "stderr",
          "text": [
            "/usr/local/lib/python3.12/dist-packages/huggingface_hub/utils/_auth.py:94: UserWarning: \n",
            "The secret `HF_TOKEN` does not exist in your Colab secrets.\n",
            "To authenticate with the Hugging Face Hub, create a token in your settings tab (https://huggingface.co/settings/tokens), set it as secret in your Google Colab and restart your session.\n",
            "You will be able to reuse this secret in all of your notebooks.\n",
            "Please note that authentication is recommended but still optional to access public models or datasets.\n",
            "  warnings.warn(\n"
          ]
        },
        {
          "output_type": "display_data",
          "data": {
            "text/plain": [
              "tokenizer_config.json:   0%|          | 0.00/25.0 [00:00<?, ?B/s]"
            ],
            "application/vnd.jupyter.widget-view+json": {
              "version_major": 2,
              "version_minor": 0,
              "model_id": "47d4ae8642424181afbe78d2ce309e11"
            }
          },
          "metadata": {}
        },
        {
          "output_type": "display_data",
          "data": {
            "text/plain": [
              "config.json:   0%|          | 0.00/615 [00:00<?, ?B/s]"
            ],
            "application/vnd.jupyter.widget-view+json": {
              "version_major": 2,
              "version_minor": 0,
              "model_id": "985e451144464bb89cc33ef37a7d88a5"
            }
          },
          "metadata": {}
        },
        {
          "output_type": "display_data",
          "data": {
            "text/plain": [
              "sentencepiece.bpe.model:   0%|          | 0.00/5.07M [00:00<?, ?B/s]"
            ],
            "application/vnd.jupyter.widget-view+json": {
              "version_major": 2,
              "version_minor": 0,
              "model_id": "9988db4fe8cf4e5b81bbda2c11b1da8d"
            }
          },
          "metadata": {}
        },
        {
          "output_type": "display_data",
          "data": {
            "text/plain": [
              "tokenizer.json:   0%|          | 0.00/9.10M [00:00<?, ?B/s]"
            ],
            "application/vnd.jupyter.widget-view+json": {
              "version_major": 2,
              "version_minor": 0,
              "model_id": "25d7b88f6a5e4fde87778b8602485151"
            }
          },
          "metadata": {}
        },
        {
          "output_type": "display_data",
          "data": {
            "text/plain": [
              "Map:   0%|          | 0/2466 [00:00<?, ? examples/s]"
            ],
            "application/vnd.jupyter.widget-view+json": {
              "version_major": 2,
              "version_minor": 0,
              "model_id": "465bf4ece66c4f5bb577114197d4cd8d"
            }
          },
          "metadata": {}
        },
        {
          "output_type": "display_data",
          "data": {
            "text/plain": [
              "Map:   0%|          | 0/275 [00:00<?, ? examples/s]"
            ],
            "application/vnd.jupyter.widget-view+json": {
              "version_major": 2,
              "version_minor": 0,
              "model_id": "bbd0683dafeb4bcb80bb64bc626846ca"
            }
          },
          "metadata": {}
        },
        {
          "output_type": "display_data",
          "data": {
            "text/plain": [
              "Map:   0%|          | 0/1176 [00:00<?, ? examples/s]"
            ],
            "application/vnd.jupyter.widget-view+json": {
              "version_major": 2,
              "version_minor": 0,
              "model_id": "7d97e16c0ed94456b1df47cd8e750bce"
            }
          },
          "metadata": {}
        },
        {
          "output_type": "display_data",
          "data": {
            "text/plain": [
              "Downloading builder script: 0.00B [00:00, ?B/s]"
            ],
            "application/vnd.jupyter.widget-view+json": {
              "version_major": 2,
              "version_minor": 0,
              "model_id": "14c22aa1d64645b28483ecbe63a26dc9"
            }
          },
          "metadata": {}
        },
        {
          "output_type": "display_data",
          "data": {
            "text/plain": [
              "Downloading builder script: 0.00B [00:00, ?B/s]"
            ],
            "application/vnd.jupyter.widget-view+json": {
              "version_major": 2,
              "version_minor": 0,
              "model_id": "1a93db930c8c418c80d2559a56c13fa4"
            }
          },
          "metadata": {}
        },
        {
          "output_type": "display_data",
          "data": {
            "text/plain": [
              "Downloading builder script: 0.00B [00:00, ?B/s]"
            ],
            "application/vnd.jupyter.widget-view+json": {
              "version_major": 2,
              "version_minor": 0,
              "model_id": "626c7ecbcf8a47f5a4981c24c6da0f6a"
            }
          },
          "metadata": {}
        },
        {
          "output_type": "display_data",
          "data": {
            "text/plain": [
              "Downloading builder script: 0.00B [00:00, ?B/s]"
            ],
            "application/vnd.jupyter.widget-view+json": {
              "version_major": 2,
              "version_minor": 0,
              "model_id": "dfa241c9561a4d00b36acb504924a306"
            }
          },
          "metadata": {}
        },
        {
          "output_type": "stream",
          "name": "stdout",
          "text": [
            "TrainingArguments(\n",
            "_n_gpu=1,\n",
            "accelerator_config={'split_batches': False, 'dispatch_batches': None, 'even_batches': True, 'use_seedable_sampler': True, 'non_blocking': False, 'gradient_accumulation_kwargs': None, 'use_configured_state': False},\n",
            "adafactor=False,\n",
            "adam_beta1=0.9,\n",
            "adam_beta2=0.999,\n",
            "adam_epsilon=1e-08,\n",
            "auto_find_batch_size=False,\n",
            "average_tokens_across_devices=True,\n",
            "batch_eval_metrics=False,\n",
            "bf16=False,\n",
            "bf16_full_eval=False,\n",
            "data_seed=None,\n",
            "dataloader_drop_last=False,\n",
            "dataloader_num_workers=0,\n",
            "dataloader_persistent_workers=False,\n",
            "dataloader_pin_memory=True,\n",
            "dataloader_prefetch_factor=None,\n",
            "ddp_backend=None,\n",
            "ddp_broadcast_buffers=None,\n",
            "ddp_bucket_cap_mb=None,\n",
            "ddp_find_unused_parameters=None,\n",
            "ddp_timeout=1800,\n",
            "debug=[],\n",
            "deepspeed=None,\n",
            "disable_tqdm=False,\n",
            "do_eval=True,\n",
            "do_predict=False,\n",
            "do_train=False,\n",
            "eval_accumulation_steps=None,\n",
            "eval_delay=0,\n",
            "eval_do_concat_batches=True,\n",
            "eval_on_start=False,\n",
            "eval_steps=None,\n",
            "eval_strategy=IntervalStrategy.EPOCH,\n",
            "eval_use_gather_object=False,\n",
            "fp16=True,\n",
            "fp16_backend=auto,\n",
            "fp16_full_eval=False,\n",
            "fp16_opt_level=O1,\n",
            "fsdp=[],\n",
            "fsdp_config={'min_num_params': 0, 'xla': False, 'xla_fsdp_v2': False, 'xla_fsdp_grad_ckpt': False},\n",
            "fsdp_min_num_params=0,\n",
            "fsdp_transformer_layer_cls_to_wrap=None,\n",
            "full_determinism=False,\n",
            "gradient_accumulation_steps=1,\n",
            "gradient_checkpointing=False,\n",
            "gradient_checkpointing_kwargs=None,\n",
            "greater_is_better=True,\n",
            "group_by_length=False,\n",
            "half_precision_backend=auto,\n",
            "hub_always_push=False,\n",
            "hub_model_id=None,\n",
            "hub_private_repo=None,\n",
            "hub_revision=None,\n",
            "hub_strategy=HubStrategy.EVERY_SAVE,\n",
            "hub_token=<HUB_TOKEN>,\n",
            "ignore_data_skip=False,\n",
            "include_for_metrics=[],\n",
            "include_inputs_for_metrics=False,\n",
            "include_num_input_tokens_seen=no,\n",
            "include_tokens_per_second=False,\n",
            "jit_mode_eval=False,\n",
            "label_names=None,\n",
            "label_smoothing_factor=0.0,\n",
            "learning_rate=2e-05,\n",
            "length_column_name=length,\n",
            "liger_kernel_config=None,\n",
            "load_best_model_at_end=True,\n",
            "local_rank=0,\n",
            "log_level=passive,\n",
            "log_level_replica=warning,\n",
            "log_on_each_node=True,\n",
            "logging_dir=./xlm_roberta_multilingual_classifier/runs/Oct19_07-37-15_6c676f6cb233,\n",
            "logging_first_step=False,\n",
            "logging_nan_inf_filter=True,\n",
            "logging_steps=50,\n",
            "logging_strategy=IntervalStrategy.STEPS,\n",
            "lr_scheduler_kwargs={},\n",
            "lr_scheduler_type=SchedulerType.LINEAR,\n",
            "max_grad_norm=1.0,\n",
            "max_steps=-1,\n",
            "metric_for_best_model=f1_macro,\n",
            "mp_parameters=,\n",
            "neftune_noise_alpha=None,\n",
            "no_cuda=False,\n",
            "num_train_epochs=4,\n",
            "optim=OptimizerNames.ADAMW_TORCH_FUSED,\n",
            "optim_args=None,\n",
            "optim_target_modules=None,\n",
            "output_dir=./xlm_roberta_multilingual_classifier,\n",
            "overwrite_output_dir=False,\n",
            "parallelism_config=None,\n",
            "past_index=-1,\n",
            "per_device_eval_batch_size=32,\n",
            "per_device_train_batch_size=16,\n",
            "prediction_loss_only=False,\n",
            "project=huggingface,\n",
            "push_to_hub=False,\n",
            "push_to_hub_model_id=None,\n",
            "push_to_hub_organization=None,\n",
            "push_to_hub_token=<PUSH_TO_HUB_TOKEN>,\n",
            "ray_scope=last,\n",
            "remove_unused_columns=True,\n",
            "report_to=['tensorboard', 'wandb'],\n",
            "restore_callback_states_from_checkpoint=False,\n",
            "resume_from_checkpoint=None,\n",
            "run_name=None,\n",
            "save_on_each_node=False,\n",
            "save_only_model=False,\n",
            "save_safetensors=True,\n",
            "save_steps=500,\n",
            "save_strategy=SaveStrategy.EPOCH,\n",
            "save_total_limit=3,\n",
            "seed=42,\n",
            "skip_memory_metrics=True,\n",
            "tf32=None,\n",
            "torch_compile=False,\n",
            "torch_compile_backend=None,\n",
            "torch_compile_mode=None,\n",
            "torch_empty_cache_steps=None,\n",
            "torchdynamo=None,\n",
            "tpu_metrics_debug=False,\n",
            "tpu_num_cores=None,\n",
            "trackio_space_id=trackio,\n",
            "use_cpu=False,\n",
            "use_legacy_prediction_loop=False,\n",
            "use_liger_kernel=False,\n",
            "use_mps_device=False,\n",
            "warmup_ratio=0.0,\n",
            "warmup_steps=0,\n",
            "weight_decay=0.01,\n",
            ")\n"
          ]
        },
        {
          "output_type": "display_data",
          "data": {
            "text/plain": [
              "model.safetensors:   0%|          | 0.00/1.12G [00:00<?, ?B/s]"
            ],
            "application/vnd.jupyter.widget-view+json": {
              "version_major": 2,
              "version_minor": 0,
              "model_id": "0f0772fbd9e14085b69f53354e4cf17f"
            }
          },
          "metadata": {}
        },
        {
          "output_type": "stream",
          "name": "stderr",
          "text": [
            "Some weights of XLMRobertaForSequenceClassification were not initialized from the model checkpoint at xlm-roberta-base and are newly initialized: ['classifier.dense.bias', 'classifier.dense.weight', 'classifier.out_proj.bias', 'classifier.out_proj.weight']\n",
            "You should probably TRAIN this model on a down-stream task to be able to use it for predictions and inference.\n",
            "/tmp/ipython-input-1159993442.py:132: FutureWarning: `tokenizer` is deprecated and will be removed in version 5.0.0 for `Trainer.__init__`. Use `processing_class` instead.\n",
            "  trainer = Trainer(\n",
            "/usr/local/lib/python3.12/dist-packages/notebook/notebookapp.py:191: SyntaxWarning: invalid escape sequence '\\/'\n",
            "  | |_| | '_ \\/ _` / _` |  _/ -_)\n"
          ]
        },
        {
          "output_type": "display_data",
          "data": {
            "text/plain": [
              "<IPython.core.display.Javascript object>"
            ],
            "application/javascript": [
              "\n",
              "        window._wandbApiKey = new Promise((resolve, reject) => {\n",
              "            function loadScript(url) {\n",
              "            return new Promise(function(resolve, reject) {\n",
              "                let newScript = document.createElement(\"script\");\n",
              "                newScript.onerror = reject;\n",
              "                newScript.onload = resolve;\n",
              "                document.body.appendChild(newScript);\n",
              "                newScript.src = url;\n",
              "            });\n",
              "            }\n",
              "            loadScript(\"https://cdn.jsdelivr.net/npm/postmate/build/postmate.min.js\").then(() => {\n",
              "            const iframe = document.createElement('iframe')\n",
              "            iframe.style.cssText = \"width:0;height:0;border:none\"\n",
              "            document.body.appendChild(iframe)\n",
              "            const handshake = new Postmate({\n",
              "                container: iframe,\n",
              "                url: 'https://wandb.ai/authorize'\n",
              "            });\n",
              "            const timeout = setTimeout(() => reject(\"Couldn't auto authenticate\"), 5000)\n",
              "            handshake.then(function(child) {\n",
              "                child.on('authorize', data => {\n",
              "                    clearTimeout(timeout)\n",
              "                    resolve(data)\n",
              "                });\n",
              "            });\n",
              "            })\n",
              "        });\n",
              "    "
            ]
          },
          "metadata": {}
        },
        {
          "output_type": "stream",
          "name": "stderr",
          "text": [
            "\u001b[34m\u001b[1mwandb\u001b[0m: Logging into wandb.ai. (Learn how to deploy a W&B server locally: https://wandb.me/wandb-server)\n",
            "\u001b[34m\u001b[1mwandb\u001b[0m: You can find your API key in your browser here: https://wandb.ai/authorize?ref=models\n",
            "wandb: Paste an API key from your profile and hit enter:"
          ]
        },
        {
          "name": "stdout",
          "output_type": "stream",
          "text": [
            " ··········\n"
          ]
        },
        {
          "output_type": "stream",
          "name": "stderr",
          "text": [
            "\u001b[34m\u001b[1mwandb\u001b[0m: \u001b[33mWARNING\u001b[0m If you're specifying your api key in code, ensure this code is not shared publicly.\n",
            "\u001b[34m\u001b[1mwandb\u001b[0m: \u001b[33mWARNING\u001b[0m Consider setting the WANDB_API_KEY environment variable, or running `wandb login` from the command line.\n",
            "\u001b[34m\u001b[1mwandb\u001b[0m: No netrc file found, creating one.\n",
            "\u001b[34m\u001b[1mwandb\u001b[0m: Appending key for api.wandb.ai to your netrc file: /root/.netrc\n",
            "\u001b[34m\u001b[1mwandb\u001b[0m: Currently logged in as: \u001b[33maamberahmed96\u001b[0m (\u001b[33maamberahmed96-govt\u001b[0m) to \u001b[32mhttps://api.wandb.ai\u001b[0m. Use \u001b[1m`wandb login --relogin`\u001b[0m to force relogin\n"
          ]
        },
        {
          "output_type": "display_data",
          "data": {
            "text/plain": [
              "<IPython.core.display.HTML object>"
            ],
            "text/html": []
          },
          "metadata": {}
        },
        {
          "output_type": "display_data",
          "data": {
            "text/plain": [
              "<IPython.core.display.HTML object>"
            ],
            "text/html": [
              "Tracking run with wandb version 0.22.2"
            ]
          },
          "metadata": {}
        },
        {
          "output_type": "display_data",
          "data": {
            "text/plain": [
              "<IPython.core.display.HTML object>"
            ],
            "text/html": [
              "Run data is saved locally in <code>/content/wandb/run-20251019_073800-o3yxp7yl</code>"
            ]
          },
          "metadata": {}
        },
        {
          "output_type": "display_data",
          "data": {
            "text/plain": [
              "<IPython.core.display.HTML object>"
            ],
            "text/html": [
              "Syncing run <strong><a href='https://wandb.ai/aamberahmed96-govt/huggingface/runs/o3yxp7yl' target=\"_blank\">misty-silence-10</a></strong> to <a href='https://wandb.ai/aamberahmed96-govt/huggingface' target=\"_blank\">Weights & Biases</a> (<a href='https://wandb.me/developer-guide' target=\"_blank\">docs</a>)<br>"
            ]
          },
          "metadata": {}
        },
        {
          "output_type": "display_data",
          "data": {
            "text/plain": [
              "<IPython.core.display.HTML object>"
            ],
            "text/html": [
              " View project at <a href='https://wandb.ai/aamberahmed96-govt/huggingface' target=\"_blank\">https://wandb.ai/aamberahmed96-govt/huggingface</a>"
            ]
          },
          "metadata": {}
        },
        {
          "output_type": "display_data",
          "data": {
            "text/plain": [
              "<IPython.core.display.HTML object>"
            ],
            "text/html": [
              " View run at <a href='https://wandb.ai/aamberahmed96-govt/huggingface/runs/o3yxp7yl' target=\"_blank\">https://wandb.ai/aamberahmed96-govt/huggingface/runs/o3yxp7yl</a>"
            ]
          },
          "metadata": {}
        },
        {
          "output_type": "display_data",
          "data": {
            "text/plain": [
              "<IPython.core.display.HTML object>"
            ],
            "text/html": [
              "\n",
              "    <div>\n",
              "      \n",
              "      <progress value='620' max='620' style='width:300px; height:20px; vertical-align: middle;'></progress>\n",
              "      [620/620 04:17, Epoch 4/4]\n",
              "    </div>\n",
              "    <table border=\"1\" class=\"dataframe\">\n",
              "  <thead>\n",
              " <tr style=\"text-align: left;\">\n",
              "      <th>Epoch</th>\n",
              "      <th>Training Loss</th>\n",
              "      <th>Validation Loss</th>\n",
              "      <th>Accuracy</th>\n",
              "      <th>F1 Macro</th>\n",
              "      <th>Precision Macro</th>\n",
              "      <th>Recall Macro</th>\n",
              "    </tr>\n",
              "  </thead>\n",
              "  <tbody>\n",
              "    <tr>\n",
              "      <td>1</td>\n",
              "      <td>0.376400</td>\n",
              "      <td>0.154305</td>\n",
              "      <td>0.960000</td>\n",
              "      <td>0.953839</td>\n",
              "      <td>0.954858</td>\n",
              "      <td>0.954488</td>\n",
              "    </tr>\n",
              "    <tr>\n",
              "      <td>2</td>\n",
              "      <td>0.121700</td>\n",
              "      <td>0.129170</td>\n",
              "      <td>0.967273</td>\n",
              "      <td>0.959674</td>\n",
              "      <td>0.960063</td>\n",
              "      <td>0.959906</td>\n",
              "    </tr>\n",
              "    <tr>\n",
              "      <td>3</td>\n",
              "      <td>0.102200</td>\n",
              "      <td>0.112282</td>\n",
              "      <td>0.981818</td>\n",
              "      <td>0.978062</td>\n",
              "      <td>0.979571</td>\n",
              "      <td>0.976956</td>\n",
              "    </tr>\n",
              "    <tr>\n",
              "      <td>4</td>\n",
              "      <td>0.046100</td>\n",
              "      <td>0.084834</td>\n",
              "      <td>0.981818</td>\n",
              "      <td>0.976190</td>\n",
              "      <td>0.975624</td>\n",
              "      <td>0.976956</td>\n",
              "    </tr>\n",
              "  </tbody>\n",
              "</table><p>"
            ]
          },
          "metadata": {}
        },
        {
          "output_type": "stream",
          "name": "stdout",
          "text": [
            "Evaluating on test set...\n"
          ]
        },
        {
          "output_type": "display_data",
          "data": {
            "text/plain": [
              "<IPython.core.display.HTML object>"
            ],
            "text/html": []
          },
          "metadata": {}
        },
        {
          "output_type": "stream",
          "name": "stdout",
          "text": [
            "{'accuracy': 0.9761904761904762, 'f1_macro': 0.9703449624136257, 'precision_macro': 0.9725849029921528, 'recall_macro': 0.9684074926089773}\n",
            "Classification report:\n",
            "                      precision    recall  f1-score   support\n",
            "\n",
            "        Hate Speech     0.9821    1.0000    0.9910       219\n",
            "          Self-harm     1.0000    0.9933    0.9966       149\n",
            "       cyber threat     0.9851    0.9925    0.9888       266\n",
            "            neutral     0.9806    0.9844    0.9825       257\n",
            "    physical threat     0.9304    0.8770    0.9030       122\n",
            "political extremist     0.9573    0.9632    0.9602       163\n",
            "\n",
            "           accuracy                         0.9762      1176\n",
            "          macro avg     0.9726    0.9684    0.9703      1176\n",
            "       weighted avg     0.9759    0.9762    0.9759      1176\n",
            "\n",
            "Confusion matrix:\n",
            " [[219   0   0   0   0   0]\n",
            " [  0 148   0   0   1   0]\n",
            " [  0   0 264   0   0   2]\n",
            " [  0   0   0 253   4   0]\n",
            " [  4   0   2   4 107   5]\n",
            " [  0   0   2   1   3 157]]\n"
          ]
        },
        {
          "output_type": "display_data",
          "data": {
            "text/plain": [
              "<Figure size 800x600 with 2 Axes>"
            ],
            "image/png": "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\n"
          },
          "metadata": {}
        },
        {
          "output_type": "stream",
          "name": "stdout",
          "text": [
            "Model and tokenizer saved to ./xlm_roberta_multilingual_classifier/final\n"
          ]
        }
      ]
    },
    {
      "cell_type": "code",
      "source": [
        "print(predict_texts([\"I will hurt you\", \"میں تمہیں نقصان پہنچاؤں گا\"]))"
      ],
      "metadata": {
        "colab": {
          "base_uri": "https://localhost:8080/"
        },
        "id": "ucbSKwb9Zv2z",
        "outputId": "a42c418c-5a04-45f5-bec0-607c62f4892d"
      },
      "execution_count": null,
      "outputs": [
        {
          "output_type": "stream",
          "name": "stdout",
          "text": [
            "['physical threat', 'physical threat']\n"
          ]
        }
      ]
    },
    {
      "cell_type": "code",
      "source": [
        "import os\n",
        "import shutil\n",
        "\n",
        "source_folder = '/content/xlm_roberta_multilingual_classifier'\n",
        "destination_folder = '/content/drive/MyDrive/xlm_roberta_multilingual_classifier'\n",
        "\n",
        "if os.path.exists(source_folder):\n",
        "    shutil.copytree(source_folder, destination_folder)\n",
        "    print(f\"Folder '{source_folder}' successfully copied to '{destination_folder}'\")\n",
        "else:\n",
        "    print(f\"Source folder '{source_folder}' not found.\")"
      ],
      "metadata": {
        "colab": {
          "base_uri": "https://localhost:8080/"
        },
        "id": "zpAqM6VXZwk2",
        "outputId": "e90c15d4-4932-4a53-cad5-70237370b328"
      },
      "execution_count": null,
      "outputs": [
        {
          "output_type": "stream",
          "name": "stdout",
          "text": [
            "Folder '/content/xlm_roberta_multilingual_classifier' successfully copied to '/content/drive/MyDrive/xlm_roberta_multilingual_classifier'\n"
          ]
        }
      ]
    },
    {
      "cell_type": "code",
      "source": [
        "!pip install -q streamlit transformers datasets torch soundfile pydub pandas altair openai langdetect     # optional: for OpenAI Whisper API"
      ],
      "metadata": {
        "id": "m2AgYp5qZ6Td"
      },
      "execution_count": 9,
      "outputs": []
    },
    {
      "cell_type": "code",
      "source": [
        "%%writefile app.py\n",
        "\n",
        "import os\n",
        "import time\n",
        "from datetime import datetime\n",
        "import pandas as pd\n",
        "import streamlit as st\n",
        "from pathlib import Path\n",
        "from typing import Dict, List, Tuple\n",
        "import langdetect\n",
        "# Optional ML imports\n",
        "try:\n",
        "    from transformers import pipeline, Pipeline\n",
        "    HF_AVAILABLE = True\n",
        "except Exception:\n",
        "    HF_AVAILABLE = False\n",
        "\n",
        "from pydub import AudioSegment\n",
        "import altair as alt\n",
        "\n",
        "# -----------------------------------------------------------\n",
        "# CONFIGURATION\n",
        "# -----------------------------------------------------------\n",
        "st.set_page_config(\n",
        "    page_title=\"🕵🏻Speech Threat Detection Dashboard\",\n",
        "    layout=\"wide\",\n",
        "    initial_sidebar_state=\"expanded\",\n",
        ")\n",
        "\n",
        "\n",
        "# Styling header\n",
        "st.markdown(\"\"\"\n",
        "    <style>\n",
        "    .big-font { font-size:32px; font-weight:700; }\n",
        "    .muted { color: #9AA0A6; }\n",
        "    .card { background: linear-gradient(135deg, rgba(10,25,47,0.95), rgba(23,43,77,0.95)); padding: 18px; border-radius: 12px; color: white; box-shadow: 0 6px 30px rgba(8,10,20,0.45); }\n",
        "    </style>\n",
        "    \"\"\", unsafe_allow_html=True)\n",
        "\n",
        "st.markdown('<div class=\"card\"><span class=\"big-font\">Speech Threat Detection Dashboard</span> <span class=\"muted\"> — upload audio or paste text </span></div>', unsafe_allow_html=True)\n",
        "\n",
        "UPLOAD_DIR = Path(\"uploads\")\n",
        "DB_CSV = Path(\"db.csv\")\n",
        "UPLOAD_DIR.mkdir(exist_ok=True)\n",
        "if not DB_CSV.exists():\n",
        "    pd.DataFrame(columns=[\"timestamp\",\"filename\",\"mode\",\"transcription\",\"predicted_label\",\"scores\"]).to_csv(DB_CSV, index=False)\n",
        "\n",
        "LABELS = [\n",
        "    \"physical threat\",\n",
        "    \"cyber threat\",\n",
        "    \"hate speech\",\n",
        "    \"political extremist threat\",\n",
        "    \"neutral\"\n",
        "]\n",
        "\n",
        "LABEL_MAP = {\n",
        "    \"LABEL_0\": \"hate speech\",\n",
        "    \"LABEL_1\": \"self-harm\",\n",
        "    \"LABEL_2\": \"cyber threat\",\n",
        "    \"LABEL_3\": \"neutral / daily life\",\n",
        "    \"LABEL_4\": \"physical threat\",\n",
        "    \"LABEL_5\": \"political extremist threat\"\n",
        "}\n",
        "\n",
        "# -----------------------------------------------------------\n",
        "# HELPER FUNCTIONS\n",
        "# -----------------------------------------------------------\n",
        "def save_audio_file(uploaded_file) -> Path:\n",
        "    filename = f\"{int(time.time())}_{uploaded_file.name}\"\n",
        "    out_path = UPLOAD_DIR / filename\n",
        "    with open(out_path, \"wb\") as f:\n",
        "        f.write(uploaded_file.read())\n",
        "    return out_path\n",
        "\n",
        "def normalize_audio_to_wav(path: Path) -> Path:\n",
        "    sound = AudioSegment.from_file(path)\n",
        "    sound = sound.set_frame_rate(16000).set_channels(1).set_sample_width(2)\n",
        "    wav_path = path.with_suffix(\".wav\")\n",
        "    sound.export(wav_path, format=\"wav\")\n",
        "    return wav_path\n",
        "\n",
        "@st.cache_resource(show_spinner=False)\n",
        "def get_asr_pipeline() -> Tuple[str, \"Pipeline\"]:\n",
        "    \"\"\"Load Hugging Face Whisper ASR model\"\"\"\n",
        "    asr = pipeline(\"automatic-speech-recognition\", model=\"openai/whisper-large-v2\")\n",
        "    return (\"hf\", asr)\n",
        "# def hf_transcribe_with_pipeline(asr_pipeline: Pipeline, path: Path) -> str:\n",
        "#     output = asr_pipeline(str(path))\n",
        "#     return output[\"text\"].strip() if isinstance(output, dict) else str(output).strip()\n",
        "def get_classifier_pipeline(model_name: str):\n",
        "    \"\"\"Load zero-shot or custom classifier\"\"\"\n",
        "    try:\n",
        "        if model_name == \"custom_xlm_roberta\":\n",
        "            classifier = pipeline(\n",
        "                \"text-classification\",\n",
        "                model=\"/content/drive/MyDrive/xlm_roberta_multilingual_classifier/final\",\n",
        "                tokenizer=\"/content/drive/MyDrive/xlm_roberta_multilingual_classifier/final\",\n",
        "                return_all_scores=True\n",
        "            )\n",
        "        else:\n",
        "            classifier = pipeline(\"zero-shot-classification\", model=model_name)\n",
        "        return classifier\n",
        "    except Exception as e:\n",
        "        st.error(f\"Model load failed: {e}\")\n",
        "        st.stop()\n",
        "\n",
        "def hf_transcribe_with_pipeline(asr_pipeline_tuple, path: Path, lang_choice: str = \"Auto\") -> str:\n",
        "    \"\"\"Transcribe audio with Whisper and restrict to English/Urdu\"\"\"\n",
        "    asr_pipeline = asr_pipeline_tuple[1] # Extract the pipeline from the tuple\n",
        "\n",
        "    lang_token = None\n",
        "    if lang_choice == \"English only\":\n",
        "        lang_token = \"<|en|>\"\n",
        "    elif lang_choice == \"Urdu only\":\n",
        "        lang_token = \"<|ur|>\"\n",
        "\n",
        "    kwargs = {\"generate_kwargs\": {\"language\": lang_token}} if lang_token else {}\n",
        "    output = asr_pipeline(str(path), **kwargs)\n",
        "    text = output[\"text\"].strip() if isinstance(output, dict) else str(output).strip()\n",
        "\n",
        "    # Restrict to English or Urdu only\n",
        "    try:\n",
        "        detected = langdetect.detect(text)\n",
        "        if detected not in [\"en\", \"ur\"]:\n",
        "            return \"[❌ Unsupported language detected — please use Urdu or English.]\"\n",
        "    except Exception:\n",
        "        pass\n",
        "\n",
        "    return text\n",
        "\n",
        "def classify_text(text: str, classifier: Pipeline, labels: List[str]) -> Dict:\n",
        "    try:\n",
        "        if \"zero-shot\" in classifier.task:\n",
        "            # For zero-shot models like RoBERTa or BART\n",
        "            result = classifier(text, labels, multi_label=False, hypothesis_template=\"This text is about {}.\")\n",
        "            labels_out, scores_out = result[\"labels\"], result[\"scores\"]\n",
        "        else:\n",
        "            # For custom fine-tuned text classification models\n",
        "            outputs = classifier(text)\n",
        "            # Handle both single and batch outputs\n",
        "            if isinstance(outputs, list):\n",
        "                outputs = outputs[0]  # unwrap batch\n",
        "            if isinstance(outputs, list):\n",
        "                # Handle return_all_scores=True (list of dicts)\n",
        "                labels_out = [LABEL_MAP.get(o[\"label\"], o[\"label\"]) for o in outputs]\n",
        "                scores_out = [o[\"score\"] for o in outputs]\n",
        "            else:\n",
        "                # Single dict output\n",
        "                labels_out = [LABEL_MAP.get(outputs[\"label\"], outputs[\"label\"])]\n",
        "                scores_out = [outputs[\"score\"]]\n",
        "        # Pick the top scoring label\n",
        "        top_label = labels_out[scores_out.index(max(scores_out))]\n",
        "        return {\"label\": top_label, \"scores\": dict(zip(labels_out, scores_out))}\n",
        "    except Exception as e:\n",
        "        st.error(f\"Classification failed: {e}\")\n",
        "        return {\"label\": \"neutral\", \"scores\": {}}\n",
        "\n",
        "\n",
        "def log_to_db(record: Dict):\n",
        "    df = pd.read_csv(DB_CSV)\n",
        "    df = pd.concat([df, pd.DataFrame([record])], ignore_index=True)\n",
        "    df.to_csv(DB_CSV, index=False)\n",
        "\n",
        "# -----------------------------------------------------------\n",
        "# SIDEBAR CONFIGURATION\n",
        "# -----------------------------------------------------------\n",
        "st.sidebar.title(\"⚙️ Configuration\")\n",
        "\n",
        "asr_pipeline_tuple = get_asr_pipeline() # Get the tuple\n",
        "\n",
        "asr_language = st.sidebar.selectbox(\n",
        "    \"Transcription Language Restriction\",\n",
        "    [\"Auto\", \"English only\", \"Urdu only\"],\n",
        "    help=\"Restrict transcription to English or Urdu only\"\n",
        ")\n",
        "if asr_pipeline_tuple[0] == \"hf\": # Check the method\n",
        "    st.sidebar.markdown(\"**ASR Method:** `hf`\")\n",
        "else:\n",
        "    st.sidebar.markdown(\"**ASR Method:** `none` (Hugging Face models not available)\")\n",
        "\n",
        "# Model selection mode\n",
        "model_type = st.sidebar.radio(\"Select Model Type\", [\"Zero-shot Models\", \"Custom Models\"])\n",
        "\n",
        "if model_type == \"Zero-shot Models\":\n",
        "    model_choices = {\n",
        "        \"✔Pretrained-RoBERTa\": \"roberta-large-mnli\",\n",
        "        \"✔Pretrained-MultiClassification\": \"facebook/bart-large-mnli\",\n",
        "        \"✔XLM-R\": \"joeddav/xlm-roberta-large-xnli\"\n",
        "    }\n",
        "else:\n",
        "    model_choices = {\n",
        "        \"✔IB: XLM-R-Fine-tuned\": \"/content/drive/MyDrive/xlm_roberta_multilingual_classifier/final\"\n",
        "    }\n",
        "\n",
        "model_display = st.sidebar.selectbox(\"Choose a Model\", list(model_choices.keys()))\n",
        "model_path = model_choices[model_display]\n",
        "\n",
        "with st.sidebar:\n",
        "    st.markdown(\"---\")\n",
        "    st.markdown(\"**Active Labels:**\")\n",
        "    for lbl in LABELS:\n",
        "        st.markdown(f\"- {lbl}\")\n",
        "\n",
        "# Load classifier\n",
        "with st.spinner(\"Loading model...\"):\n",
        "    try:\n",
        "        if model_type == \"Custom Models\":\n",
        "            classifier = pipeline(\"text-classification\", model=model_path, tokenizer=model_path, return_all_scores=True)\n",
        "        else:\n",
        "            classifier = pipeline(\"zero-shot-classification\", model=model_path)\n",
        "    except Exception as e:\n",
        "        st.error(f\"Model load failed: {e}\")\n",
        "        st.stop()\n",
        "\n",
        "# -----------------------------------------------------------\n",
        "# MAIN INTERFACE\n",
        "# -----------------------------------------------------------\n",
        "st.markdown(\"\"\"\n",
        "    <style>\n",
        "    .subtitle {color:#999;}\n",
        "    </style>\n",
        "\"\"\", unsafe_allow_html=True)\n",
        "\n",
        "st.markdown('<div class=\"subtitle\">Upload or enter text to detect threat categories</div>', unsafe_allow_html=True)\n",
        "st.write(\"\")\n",
        "\n",
        "tab1, tab2 = st.tabs([\"⏳ Processing\", \"📊 Analysis\"])\n",
        "\n",
        "# -----------------------------------------------------------\n",
        "# TAB 1: PROCESSING\n",
        "# -----------------------------------------------------------\n",
        "with tab1:\n",
        "    input_mode = st.radio(\"Input mode\", [\"Upload audio\", \"Paste text\"])\n",
        "    transcription_text = \"\"\n",
        "    saved_file_path = None\n",
        "\n",
        "    if input_mode == \"Upload audio\":\n",
        "        uploaded_file = st.file_uploader(\"Upload audio file\", type=[\"wav\",\"mp3\",\"m4a\",\"flac\",\"ogg\"])\n",
        "        if uploaded_file:\n",
        "            saved_path = save_audio_file(uploaded_file)\n",
        "            saved_file_path = saved_path\n",
        "            st.audio(saved_path)\n",
        "            wav_path = normalize_audio_to_wav(saved_path)\n",
        "            st.info(\"Transcribing audio...\")\n",
        "            try:\n",
        "                if asr_pipeline_tuple[0] == \"hf\": # Check the method\n",
        "                    transcription_text = hf_transcribe_with_pipeline(asr_pipeline_tuple, wav_path) # Pass the tuple\n",
        "                else:\n",
        "                    st.warning(\"No ASR available.\")\n",
        "            except Exception as e:\n",
        "                st.error(f\"Transcription failed: {e}\")\n",
        "    else:\n",
        "        transcription_text = st.text_area(\"Enter or paste text\", height=180)\n",
        "\n",
        "    if transcription_text:\n",
        "        st.markdown(\"### Transcription\")\n",
        "        txt = st.text_area(\"Editable text\", value=transcription_text, height=180)\n",
        "        if st.button(\"📝 Classify\"):\n",
        "            with st.spinner(\"Analyzing text...\"):\n",
        "                result = classify_text(txt, classifier, LABELS)\n",
        "                record = {\n",
        "                    \"timestamp\": datetime.utcnow().isoformat(),\n",
        "                    \"filename\": saved_file_path.name if saved_file_path else \"text_input\",\n",
        "                    \"mode\": \"audio\" if saved_file_path else \"text\",\n",
        "                    \"transcription\": txt,\n",
        "                    \"predicted_label\": result[\"label\"],\n",
        "                    \"scores\": result[\"scores\"]\n",
        "                }\n",
        "                log_to_db(record)\n",
        "            st.success(f\"**Predicted Category:** {result['label']}\")\n",
        "            df_scores = pd.DataFrame(result[\"scores\"].items(), columns=[\"Label\", \"Score\"]).sort_values(\"Score\", ascending=False)\n",
        "            st.bar_chart(df_scores.set_index(\"Label\"))\n",
        "\n",
        "# -----------------------------------------------------------\n",
        "# TAB 2: ANALYSIS\n",
        "# -----------------------------------------------------------\n",
        "with tab2:\n",
        "    st.subheader(\"📈📊 Analytical Overview\")\n",
        "    if not DB_CSV.exists() or os.path.getsize(DB_CSV) == 0:\n",
        "        st.info(\"No data available yet. Run a few classifications first.\")\n",
        "    else:\n",
        "        df = pd.read_csv(DB_CSV)\n",
        "        if df.empty:\n",
        "            st.info(\"No records yet.\")\n",
        "        else:\n",
        "            st.metric(\"Total Records\", len(df))\n",
        "            cat_counts = df[\"predicted_label\"].value_counts().reset_index()\n",
        "            cat_counts.columns = [\"Label\", \"Count\"]\n",
        "            chart = alt.Chart(cat_counts).mark_bar().encode(\n",
        "                x=\"Label:N\", y=\"Count:Q\", tooltip=[\"Label\", \"Count\"]\n",
        "            ).properties(height=300)\n",
        "            st.altair_chart(chart, use_container_width=True)\n",
        "\n",
        "            st.markdown(\"### Recent Entries\")\n",
        "            st.dataframe(df.sort_values(\"timestamp\", ascending=False).head(30))\n",
        "\n",
        "            st.markdown(\"### Upload Trends Over Time\")\n",
        "            df[\"ts_day\"] = pd.to_datetime(df[\"timestamp\"], errors=\"coerce\").dt.date\n",
        "            ts = df.groupby([\"ts_day\",\"predicted_label\"]).size().reset_index(name=\"count\")\n",
        "            line_chart = alt.Chart(ts).mark_line(point=True).encode(\n",
        "                x=\"ts_day:T\", y=\"count:Q\", color=\"predicted_label:N\"\n",
        "            ).properties(height=300)\n",
        "            st.altair_chart(line_chart, use_container_width=True)\n",
        "\n",
        "            csv = df.to_csv(index=False).encode(\"utf-8\")\n",
        "            st.download_button(\"⬇️ Download Full Log\", csv, \"threat_log.csv\", \"text/csv\")\n",
        "\n",
        "st.markdown(\"---\")\n",
        "st.caption(\"© 2025 — Intelligence Threat Detection Suite. Built for multilingual zero-shot NLP analysis.\")"
      ],
      "metadata": {
        "colab": {
          "base_uri": "https://localhost:8080/"
        },
        "id": "j4mujUG2aAKB",
        "outputId": "da8ff119-dab5-4230-d019-11457e8100ee"
      },
      "execution_count": 10,
      "outputs": [
        {
          "output_type": "stream",
          "name": "stdout",
          "text": [
            "Overwriting app.py\n"
          ]
        }
      ]
    },
    {
      "cell_type": "code",
      "source": [
        "!pip install -q streamlit pyngrok\n",
        "\n",
        "from pyngrok import ngrok\n",
        "\n",
        "!ngrok config add-authtoken 336BrRjQ7YSg2jmqqp2ijY5Vduw_rWqVmRrG5q5eypgifYT3"
      ],
      "metadata": {
        "colab": {
          "base_uri": "https://localhost:8080/"
        },
        "id": "obAihbCEaECC",
        "outputId": "a36676a5-5651-4e5b-f46d-0e7c674e4b19"
      },
      "execution_count": 11,
      "outputs": [
        {
          "output_type": "stream",
          "name": "stdout",
          "text": [
            "Authtoken saved to configuration file: /root/.config/ngrok/ngrok.yml\n"
          ]
        }
      ]
    },
    {
      "cell_type": "code",
      "source": [
        "\n",
        "# 🚀 2. Launch Streamlit app with ngrok tunnel\n",
        "# ==========================\n",
        "from pyngrok import ngrok\n",
        "import time, os\n",
        "\n",
        "# (Optional) Add your ngrok token for stability (recommended)\n",
        "# !ngrok authtoken YOUR_NGROK_TOKEN\n",
        "\n",
        "# Kill any previous tunnels\n",
        "ngrok.kill()\n",
        "\n",
        "\n",
        "\n",
        "# Start Streamlit on port 8501 (default)\n",
        "get_ipython().system_raw('streamlit run app.py --server.port 8501 &')\n",
        "\n",
        "# Wait a few seconds for it to start\n",
        "time.sleep(5)\n",
        "\n",
        "# Create a tunnel to the Streamlit port\n",
        "public_url = ngrok.connect(8501)\n",
        "print(\"✅ Streamlit is live here:\", public_url.public_url)\n"
      ],
      "metadata": {
        "colab": {
          "base_uri": "https://localhost:8080/"
        },
        "id": "PTW9rrdzaFin",
        "outputId": "46a4baad-2b7c-410f-98f2-8ac552908992"
      },
      "execution_count": 12,
      "outputs": [
        {
          "output_type": "stream",
          "name": "stdout",
          "text": [
            "✅ Streamlit is live here: https://noneagerly-unslumbrous-raven.ngrok-free.dev\n"
          ]
        }
      ]
    },
    {
      "cell_type": "code",
      "source": [
        "!pip install -q huggingface_hub\n",
        "from huggingface_hub import notebook_login\n",
        "\n",
        "# 🔑 Login to Hugging Face (you’ll be asked for your access token)\n",
        "notebook_login()\n"
      ],
      "metadata": {
        "colab": {
          "base_uri": "https://localhost:8080/",
          "height": 17,
          "referenced_widgets": [
            "e540f018695040aca3053488d8d9c4c5",
            "7046461427aa4c7eb1567da4cbdf5d0d",
            "b0fff3ede46049bfbae62b5757efd8c6",
            "3c01d74e4dae4f0c8ff1f8cfdae98e25",
            "ea675d1d5b2f4c40afc183e9947f3caa",
            "a8439ebc25b84d64be4fdaa9ca1bdc99",
            "b28bb3bee1ac4dae9fcef3da3410d026",
            "a068fb99810f48c89f5c702d60f35a10",
            "06060c9993244981a0be30fdcfb418dd",
            "66c75c4308c34db2865c200520d20507",
            "ca7c2e0630f74c5a8f1fbbd84463f994",
            "d1ecd5d60e5545b798ccbe4d32574816",
            "979c95a6090e4bbfb983d8d7aef3f267",
            "5bf08162f8704526ad52f5a93a0d9775",
            "50c67c90c92841a0901c823a78a4b2c7",
            "0ca7a63848f24f2abb33d848adc536c4",
            "a91326898e6443259de899a9127d868a",
            "0d63f6a764054ddb939a5a0dd040db78",
            "966d092e9b3a4a3eb991956cf6c6aab2",
            "5b9ac2b99fb34b15b1eb580a432a37af"
          ]
        },
        "id": "MWiHA2e4glmW",
        "outputId": "c3b68e49-1244-4ce7-a272-567dbccbad2c"
      },
      "execution_count": 13,
      "outputs": [
        {
          "output_type": "display_data",
          "data": {
            "text/plain": [
              "VBox(children=(HTML(value='<center> <img\\nsrc=https://huggingface.co/front/assets/huggingface_logo-noborder.sv…"
            ],
            "application/vnd.jupyter.widget-view+json": {
              "version_major": 2,
              "version_minor": 0,
              "model_id": "e540f018695040aca3053488d8d9c4c5"
            }
          },
          "metadata": {}
        }
      ]
    },
    {
      "cell_type": "code",
      "source": [
        "!pip install -U huggingface_hub\n",
        "from huggingface_hub import HfApi, notebook_login, create_repo, upload_folder\n",
        "\n",
        "# 🔑 Login (only once per session)\n",
        "notebook_login()\n",
        "\n",
        "HF_USERNAME = \"AiAnber\"  # 🔁 change this\n",
        "MODEL_NAME = \"xlm-roberta-threat-detector\"  # 🔁 change this\n",
        "MODEL_PATH = \"/content/drive/MyDrive/xlm_roberta_multilingual_classifier/final\"  # ✅ your folder path\n",
        "\n",
        "# Create a repo if it doesn't exist\n",
        "repo_id = f\"{HF_USERNAME}/{MODEL_NAME}\"\n",
        "create_repo(repo_id, exist_ok=True)\n",
        "\n",
        "# Upload entire folder (no git, no clone)\n",
        "upload_folder(\n",
        "    folder_path=MODEL_PATH,\n",
        "    repo_id=repo_id,\n",
        "    commit_message=\"Initial model upload from Google Drive\",\n",
        ")\n",
        "\n",
        "print(f\"✅ Upload complete!\")\n",
        "print(f\"🔗 View your model here: https://huggingface.co/{repo_id}\")\n"
      ],
      "metadata": {
        "colab": {
          "base_uri": "https://localhost:8080/",
          "height": 489,
          "referenced_widgets": [
            "bd865f48d20c46d8954237e99ffd9a26",
            "69e8257a314c4653ab3cb59fe31cd081",
            "ff3587ee1184415f99243c9e3e61be88",
            "c66c6fb2c84f4a398af63eaaf79178f0",
            "15ed5109286e47cf9cb617210d692adf",
            "c4d25a2585a1432a98bf54d1dcdf349e",
            "badde909572d42edb2ac321be6c16d49",
            "3ab276f1c8074712adce8d27ab7384db",
            "eef295b08c71438ba5d7708bac8b675f",
            "035e7b0e1cd04fb6a2d4ec871da2e103",
            "185800d903304411a440bf3a71ee3174",
            "b1894e83dc2748448bd3f65a62acde17",
            "0d003576226349a3ae2aefe9616e58c4",
            "7cb101a402fe4146a31e8691d22f7bf4",
            "8c19f6d5bd57419d9711a6df03b8d31d",
            "cb7847b9972c48df8a77007e4d45935b",
            "66b4a27c83ed4e06b1b43d69760d7376",
            "3438da54b0564052b08763029145e0cd",
            "40bf31a09eed48d0b4371835c237c534",
            "1f8522b3fe3d4b0792aa40310dd7ab11",
            "71aa7de8c62e44eab8896e766960fca2",
            "8311e67245dc4e38b64730a776d4dd3c",
            "01903d3dbe98475e9934318a8c215e74",
            "688a234116c1475c8552fa53d7c45a01",
            "4b49800d121f4fd395b8a9fdc640c30e",
            "19a9e0b823c543bc8315f3e8b3708893",
            "4ad4f23152164744abce8d801d4cd089",
            "d5d3331b9ed94f8ca3b314f683764564",
            "14f2f6a47cdf4b32acb75053d37fe79c",
            "e8cd04e8818f4fed9f040a1f16713d07",
            "95214404b9e34802b4470374b39b8986",
            "07f101788a1440a8b0cf54d6a93a754f",
            "626f48e546964ae8a314a58ee9db6b9e",
            "7a01a8f9beb84c17823484cbe570f34c",
            "879bf3e0c388403ba02f5b51627d3242",
            "6bfd8aa2d93b4828a98e58e3644f2f8a",
            "a3b3622c045945398563cc82f05e525c",
            "046aa706fc75428a88bf5177c79e6c40",
            "5d3b00a6205247108aca691acef3aceb",
            "d31b7d1b541f475d844397a1f804e1c1",
            "6d0255fba2dd45b881be94a0d3a30214",
            "7822958d647642fc935ed031bda287ea",
            "5893e675918e4cb4a0cfd529f708563a",
            "a30e819c41ad4fd68c620d7d482af5a6",
            "7dc4349526f640c382e627f0998aecd5",
            "fb1dc197a3414f018a518749fe512f43",
            "16a01c22ec324719ad38cb6e99a2c22e",
            "ea83744c21244e9c9ecad24842bc4755",
            "f364e202392644378d686a70c0f20eee",
            "47fb8508e57141518eef3d692d890f06",
            "fa490d8c87db4c7ea2171a319e6c6bed",
            "4c59f3e88e2546608f24151a9cf40c8b",
            "a4190e7461e74e3b9f433c0cebfa4cc5",
            "704d7a33e1ad45f8bf3b1b47545b2ea3",
            "26f93d8ad79a40c5afd413313260ae2a",
            "751f1e2fbbf94f0abcfb3223b99a4de0",
            "6b6b594d45c74df38cd5b9029f693649",
            "7cecfd3cec1544439ba7728571df3a7e",
            "2c9aa93f15944efe865c03171b99677a",
            "f47a21bc967c4755aee83a24cf7bbeb8",
            "7f3d3538ddc445d4bad93bd3c201894a",
            "db8edc4ff4214a5983560d7b4ea010cb",
            "ebdfcbf716424451a0eeaf94ff2036bd",
            "3d6d6f5af92f41d99c0a7989401b2b02",
            "e5d0d1c0573d48a1b078318fb68d181c",
            "6608e8e5ed764f82bc20df0f124b58c7",
            "01616ad3793b4b45bd5d14dbe6032eaf",
            "6984cf18ff8c4abfab0ed8763a97374f",
            "9d9555a02e6d4820baf3786cff7402ae",
            "ed7f385d638a49639b2418536626105f",
            "68dc4bbe290341df9c9ac7ed2b77818b",
            "3a2afdf2d7ed432fb39e8370e4f52c08",
            "faaacfb76f7b4d33842d05e400bd47b7",
            "a25c493f745b48b2ad498a1bfb4e162a",
            "37d0e85371e145cb9624aa35d4355c07",
            "2a0f3d11c8c04ec8a9560f905d73bd9c",
            "07a2321500ce452281f3395935d0ff83",
            "0406b50e4bfe480ca69a2b5ff00fe5a9",
            "4221cd4e14724af1a291fe3a6722acc6",
            "4b0a29b0b9b948569e45a82e237f2938",
            "ba1195c5099f40119cdde93db163304e",
            "9c09c3c451724674b523b15c498e1b19",
            "7efef6e770b9440ea876ee8de811f9fc",
            "7a2359a70f824a94923fd7dabb4f5966",
            "346c7680a11847508207f8b6dce3360b",
            "e840d5f5729a405c89dc8b780f0b9f9b"
          ]
        },
        "id": "kcQ3GEYYk902",
        "outputId": "39770a5c-9df5-4361-8ca8-be7ef446aa04"
      },
      "execution_count": 19,
      "outputs": [
        {
          "output_type": "stream",
          "name": "stdout",
          "text": [
            "Requirement already satisfied: huggingface_hub in /usr/local/lib/python3.12/dist-packages (0.35.3)\n",
            "Requirement already satisfied: filelock in /usr/local/lib/python3.12/dist-packages (from huggingface_hub) (3.20.0)\n",
            "Requirement already satisfied: fsspec>=2023.5.0 in /usr/local/lib/python3.12/dist-packages (from huggingface_hub) (2025.3.0)\n",
            "Requirement already satisfied: packaging>=20.9 in /usr/local/lib/python3.12/dist-packages (from huggingface_hub) (25.0)\n",
            "Requirement already satisfied: pyyaml>=5.1 in /usr/local/lib/python3.12/dist-packages (from huggingface_hub) (6.0.3)\n",
            "Requirement already satisfied: requests in /usr/local/lib/python3.12/dist-packages (from huggingface_hub) (2.32.4)\n",
            "Requirement already satisfied: tqdm>=4.42.1 in /usr/local/lib/python3.12/dist-packages (from huggingface_hub) (4.67.1)\n",
            "Requirement already satisfied: typing-extensions>=3.7.4.3 in /usr/local/lib/python3.12/dist-packages (from huggingface_hub) (4.15.0)\n",
            "Requirement already satisfied: hf-xet<2.0.0,>=1.1.3 in /usr/local/lib/python3.12/dist-packages (from huggingface_hub) (1.1.10)\n",
            "Requirement already satisfied: charset_normalizer<4,>=2 in /usr/local/lib/python3.12/dist-packages (from requests->huggingface_hub) (3.4.4)\n",
            "Requirement already satisfied: idna<4,>=2.5 in /usr/local/lib/python3.12/dist-packages (from requests->huggingface_hub) (3.11)\n",
            "Requirement already satisfied: urllib3<3,>=1.21.1 in /usr/local/lib/python3.12/dist-packages (from requests->huggingface_hub) (2.5.0)\n",
            "Requirement already satisfied: certifi>=2017.4.17 in /usr/local/lib/python3.12/dist-packages (from requests->huggingface_hub) (2025.10.5)\n"
          ]
        },
        {
          "output_type": "display_data",
          "data": {
            "text/plain": [
              "VBox(children=(HTML(value='<center> <img\\nsrc=https://huggingface.co/front/assets/huggingface_logo-noborder.sv…"
            ],
            "application/vnd.jupyter.widget-view+json": {
              "version_major": 2,
              "version_minor": 0,
              "model_id": "bd865f48d20c46d8954237e99ffd9a26"
            }
          },
          "metadata": {}
        },
        {
          "output_type": "display_data",
          "data": {
            "text/plain": [
              "Processing Files (0 / 0)      : |          |  0.00B /  0.00B            "
            ],
            "application/vnd.jupyter.widget-view+json": {
              "version_major": 2,
              "version_minor": 0,
              "model_id": "3438da54b0564052b08763029145e0cd"
            }
          },
          "metadata": {}
        },
        {
          "output_type": "display_data",
          "data": {
            "text/plain": [
              "New Data Upload               : |          |  0.00B /  0.00B            "
            ],
            "application/vnd.jupyter.widget-view+json": {
              "version_major": 2,
              "version_minor": 0,
              "model_id": "14f2f6a47cdf4b32acb75053d37fe79c"
            }
          },
          "metadata": {}
        },
        {
          "output_type": "display_data",
          "data": {
            "text/plain": [
              "  ...l/sentencepiece.bpe.model: 100%|##########| 5.07MB / 5.07MB            "
            ],
            "application/vnd.jupyter.widget-view+json": {
              "version_major": 2,
              "version_minor": 0,
              "model_id": "d31b7d1b541f475d844397a1f804e1c1"
            }
          },
          "metadata": {}
        },
        {
          "output_type": "display_data",
          "data": {
            "text/plain": [
              "  ...r/final/model.safetensors:   0%|          | 17.7kB / 1.11GB            "
            ],
            "application/vnd.jupyter.widget-view+json": {
              "version_major": 2,
              "version_minor": 0,
              "model_id": "fa490d8c87db4c7ea2171a319e6c6bed"
            }
          },
          "metadata": {}
        },
        {
          "output_type": "display_data",
          "data": {
            "text/plain": [
              "  ...fier/final/tokenizer.json: 100%|##########| 17.1MB / 17.1MB            "
            ],
            "application/vnd.jupyter.widget-view+json": {
              "version_major": 2,
              "version_minor": 0,
              "model_id": "db8edc4ff4214a5983560d7b4ea010cb"
            }
          },
          "metadata": {}
        },
        {
          "output_type": "display_data",
          "data": {
            "text/plain": [
              "  ...r/final/training_args.bin:  10%|9         |   579B / 5.91kB            "
            ],
            "application/vnd.jupyter.widget-view+json": {
              "version_major": 2,
              "version_minor": 0,
              "model_id": "faaacfb76f7b4d33842d05e400bd47b7"
            }
          },
          "metadata": {}
        },
        {
          "output_type": "stream",
          "name": "stdout",
          "text": [
            "✅ Upload complete!\n",
            "🔗 View your model here: https://huggingface.co/AiAnber/xlm-roberta-threat-detector\n"
          ]
        }
      ]
    }
  ]
}
